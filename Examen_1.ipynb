{
  "nbformat": 4,
  "nbformat_minor": 0,
  "metadata": {
    "colab": {
      "name": "Examen 1.ipynb",
      "provenance": [],
      "collapsed_sections": [],
      "authorship_tag": "ABX9TyNWkZolMh1uyZMrgYomD7Tu",
      "include_colab_link": true
    },
    "kernelspec": {
      "name": "python3",
      "display_name": "Python 3"
    }
  },
  "cells": [
    {
      "cell_type": "markdown",
      "metadata": {
        "id": "view-in-github",
        "colab_type": "text"
      },
      "source": [
        "<a href=\"https://colab.research.google.com/github/MoyFdz/Met-num/blob/main/Examen_1.ipynb\" target=\"_parent\"><img src=\"https://colab.research.google.com/assets/colab-badge.svg\" alt=\"Open In Colab\"/></a>"
      ]
    },
    {
      "cell_type": "markdown",
      "metadata": {
        "id": "pUAsAkVQ3FNH"
      },
      "source": [
        "# Problema 1"
      ]
    },
    {
      "cell_type": "markdown",
      "metadata": {
        "id": "UExiGCVTm48h"
      },
      "source": [
        "Escribir un programa que calcule las raíces de\\\n",
        "ax2 + bx + c = 0 .....(1)\\\n",
        "Esto lo puede hacer con la ecuación general de segundo orden\\\n",
        "x[1,2]=Fórmula general .....(2)\\\n",
        "Si el discriminante (b2 - 4ac) es negativo, entonces debe de imprimir\\\n",
        "Error, el discriminante tiene que se positivo\\\n",
        "y debe de volver a leer los valores de los coeficientes a, b y c, esto se debe de ciclar hasta que el discriminante sea positivo."
      ]
    },
    {
      "cell_type": "code",
      "metadata": {
        "id": "9vQ9i6_GmutK"
      },
      "source": [
        "print(\"Este programa calcula las raíces de ax**2+bx+c\")\n",
        "discrim = -1\n",
        "while discrim<0:\n",
        "  a = int(input(\"Dé el valor del coeficiente a: \"))\n",
        "  b = int(input(\"Dé el valor del coeficiente b: \"))\n",
        "  c = int(input(\"Dé el valor del coeficiente c: \"))\n",
        "  discrim = (b**2)-(4*a*c)\n",
        "  x1 = (-b+(discrim**0.5))/(2*a)\n",
        "  x2 = (-b-(discrim**0.5))/(2*a)\n",
        "  if discrim < 0:\n",
        "    print(\"\\n Error, el discriminante tiene que ser positivo\")\n",
        "  elif discrim >= 0:\n",
        "    print(\"Las raíces son:\",int(x1),\"y\",int(x2))"
      ],
      "execution_count": null,
      "outputs": []
    },
    {
      "cell_type": "markdown",
      "metadata": {
        "id": "a1CzZwoO3TvZ"
      },
      "source": [
        "# Problema 2"
      ]
    },
    {
      "cell_type": "markdown",
      "metadata": {
        "id": "Dti25Sdp3Ysk"
      },
      "source": [
        "Sea la función\\\n",
        "f(x) = x2 + 3x + 3 .....(3)\\\n",
        "Realizar un función que acepte como argumento el valor de x, que calcule el valor de f(x) y que lo regrese a la función principal.\\\n",
        "En el programa principal, debe de hacer un bucle que ayude a evaluar la función con valores desde -4 hasta 10 y que pare el bucle cuando el valor e f(x) sea mayor a 30.\\\n",
        "Guardar en una lista el valor de las interaciones conforme van pasando.\\\n",
        "Pistas: Debes de utilizar el bucle while con un contador que comienza en -4 y debe de ir sumando en uno.\\\n",
        "La lista vacía se declara con miLista=[ ] y cada que quieras agregar algún elemento te conviene utilizar .append(valor)."
      ]
    },
    {
      "cell_type": "code",
      "metadata": {
        "id": "34X3sk3T4Xua"
      },
      "source": [
        "print(\"Este programa evalua f(x) = x^2 + 3x + 3 \\n\")\n",
        "cont = -4\n",
        "A = []\n",
        "a = cont\n",
        "A.append(a)\n",
        "B = []\n",
        "b = (cont**2)+(3*cont)+3\n",
        "B.append(b)\n",
        "while b<=30:\n",
        "  cont = cont + 1\n",
        "  a = cont\n",
        "  A.append(a)\n",
        "  b = (cont**2)+(3*cont)+3\n",
        "  B.append(b)\n",
        "print(\"La lista A corresponde a:\",A)\n",
        "print(\"La lista B corresponde a:\",B)"
      ],
      "execution_count": null,
      "outputs": []
    }
  ]
}