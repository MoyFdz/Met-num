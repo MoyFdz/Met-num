{
  "nbformat": 4,
  "nbformat_minor": 0,
  "metadata": {
    "colab": {
      "name": "Tarea 1.ipynb",
      "provenance": [],
      "collapsed_sections": [
        "xXULKB-QXdff",
        "TAlLBVUNcsB3",
        "4_-M-7hDC0aT",
        "4zKdPGxbpDqE",
        "8aqbcKLKR-Oe",
        "h_AdCcrPo7Z5",
        "3g4ba307tNqG"
      ]
    },
    "kernelspec": {
      "name": "python3",
      "display_name": "Python 3"
    }
  },
  "cells": [
    {
      "cell_type": "markdown",
      "metadata": {
        "id": "sASE-q8OMhO0"
      },
      "source": [
        "# Problema 1"
      ]
    },
    {
      "cell_type": "markdown",
      "metadata": {
        "id": "TdZD3o2yC7dF"
      },
      "source": [
        "Desarrollar un programa que lea una variable de tipo entera value, indique si es un número par o impar."
      ]
    },
    {
      "cell_type": "code",
      "metadata": {
        "id": "Fk_PgvoYDEC8",
        "outputId": "e8a70f7f-1ba7-48ea-a45f-5f68e95e4852",
        "colab": {
          "base_uri": "https://localhost:8080/"
        }
      },
      "source": [
        "num = int(input(\"Introduzca un número:\"))\n",
        "if num%2==0:\n",
        "  print(\"El número es par\")\n",
        "else:\n",
        "  print(\"El número es impar\")"
      ],
      "execution_count": 41,
      "outputs": [
        {
          "output_type": "stream",
          "text": [
            "Introduzca un número:54\n",
            "El número es par\n"
          ],
          "name": "stdout"
        }
      ]
    },
    {
      "cell_type": "markdown",
      "metadata": {
        "id": "K167dMfAMr5p"
      },
      "source": [
        "# Problema 2\n"
      ]
    },
    {
      "cell_type": "markdown",
      "metadata": {
        "id": "lBcazCliK7G8"
      },
      "source": [
        "Desarrolle un programa en el que el usuario introduzca una cadena de caracteres y un número entero, después el programa debe de imprimir la cadena de caracteres tantas veces como el número entero\\\n",
        "Ejemplo: Si el usuario introduce la cadena de caracteres I <3 IPN y después introduce 3,la salida del programa debe de ser\\\n",
        "I <3 IPN\\\n",
        "I <3 IPN\\\n",
        "I <3 IPN"
      ]
    },
    {
      "cell_type": "code",
      "metadata": {
        "id": "OrqNVZY7LGJP",
        "outputId": "b2e967d5-e0f4-4d07-8150-9cf0547a2adf",
        "colab": {
          "base_uri": "https://localhost:8080/"
        }
      },
      "source": [
        "a = (input(\"introducir caracteres:\"))\n",
        "b = int(input(\"Introduce las veces que se repetirá:\"))\n",
        "contador = 0\n",
        "while contador < b:\n",
        "  contador = contador + 1\n",
        "  print(a) "
      ],
      "execution_count": 36,
      "outputs": [
        {
          "output_type": "stream",
          "text": [
            "introducir caracteres:jkl\n",
            "Introduce las veces que se repetirá:5\n",
            "jkl\n",
            "jkl\n",
            "jkl\n",
            "jkl\n",
            "jkl\n"
          ],
          "name": "stdout"
        }
      ]
    },
    {
      "cell_type": "markdown",
      "metadata": {
        "id": "xXULKB-QXdff"
      },
      "source": [
        "# Problema 3\n"
      ]
    },
    {
      "cell_type": "markdown",
      "metadata": {
        "id": "a2IoFPyNXhfA"
      },
      "source": [
        "Escribir una función que reciba como argumentos el número de horas y el costo por hora dejarlo\n",
        "como argumento predefinido en 150 la función debe de regresar el pago del empleado en un\n",
        "día, en una semana (5 días) y en un mes (20 días)."
      ]
    },
    {
      "cell_type": "code",
      "metadata": {
        "id": "1ZQH2ix2Xuej",
        "outputId": "f7212c48-cb45-47c6-f02a-0b462976bb6d",
        "colab": {
          "base_uri": "https://localhost:8080/"
        }
      },
      "source": [
        "def PagoEmpleado(horas,costo):\n",
        "  res = horas*costo\n",
        "  print(\"El pago del día es:\",res)\n",
        "  print(\"El pago en una semana es:\",res*5)\n",
        "  print(\"El pago en un mes es:\",res*20)\n",
        "a = float(input(\"Horas trabajadas:\"))\n",
        "b = 150\n",
        "PagoEmpleado(a,b)"
      ],
      "execution_count": 30,
      "outputs": [
        {
          "output_type": "stream",
          "text": [
            "Horas trabajadas:4\n",
            "El pago del día es: 600.0\n",
            "El pago en una semana es: 3000.0\n",
            "El pago en un mes es: 12000.0\n"
          ],
          "name": "stdout"
        }
      ]
    },
    {
      "cell_type": "markdown",
      "metadata": {
        "id": "TAlLBVUNcsB3"
      },
      "source": [
        "# Problema 4\n"
      ]
    },
    {
      "cell_type": "markdown",
      "metadata": {
        "id": "CxuoRELkcwmR"
      },
      "source": [
        "Escribir el código de una calculadora, que inicialmente muestre el menú y dependiendo de la\n",
        "opción elegida por el usuario se desarrolle la operación, observe que en la división el denominador\n",
        "no puede ser cero, en caso que sea así, debe de entrar en un bucle while que esté leyendo\n",
        "el denominador de nuevo hasta que éste sea distinto de cero\\\n",
        "a. suma\\\n",
        "b. resta\\\n",
        "c. multiplicacion\\\n",
        "d. división\\\n",
        "Introduzca una opción:"
      ]
    },
    {
      "cell_type": "code",
      "metadata": {
        "id": "rOfQJSzXddj-",
        "outputId": "91c3f5b1-9547-42f5-f2dc-597ff603df92",
        "colab": {
          "base_uri": "https://localhost:8080/"
        }
      },
      "source": [
        "print(\"Calculadora\")\n",
        "print(\"menú de opciones\")\n",
        "print(\"1. Suma\")\n",
        "print(\"2. Resta\")\n",
        "print(\"3. Multiplicacion\")\n",
        "print(\"4. Division\")\n",
        "resultado=\"\"\n",
        "while resultado!=\"no\": \n",
        "  print(\"Elija una opcion del menu\")\n",
        "  Menu=int(input())\n",
        "  while Menu>=5: \n",
        "    print(\"Elija una opcion entre el 1 y el 4 para operar\")\n",
        "    Menu= int(input()) \n",
        "  if Menu==1: \n",
        "    x= float(input(\"valor 1 \"))\n",
        "    y= float(input(\" + \"))\n",
        "    print(\"La suma de \", x,\"+\",y,\"es: \", x+y) \n",
        "  elif Menu==2: \n",
        "    x= float(input(\"valor 1 \"))\n",
        "    y= float(input(\" - \"))\n",
        "    print(\"La resta de \",x,\"-\",y,\"es: \",x-y) \n",
        "  elif Menu==3: \n",
        "    x= float(input(\"valor 1 \"))\n",
        "    y= float(input(\" * \"))\n",
        "    print(\"La multiplicacion de \",x,\"*\", y,\"es: \", x*y) \n",
        "  elif Menu==4: \n",
        "    x= float(input(\"dominador \"))\n",
        "    y= float(input(\"denominador \"))\n",
        "    while y==0:\n",
        "      print(\"Digite otro número distinto a 0\")\n",
        "      y=float(input())\n",
        "    print(\"La division de\",x,\"/\",y,\"es: \",x/y)\n",
        "  print(\"¿Quieres realizar otra operacion?\")\n",
        "  resultado=input()"
      ],
      "execution_count": 74,
      "outputs": [
        {
          "output_type": "stream",
          "text": [
            "Calculadora\n",
            "menú de opciones\n",
            "1. Suma\n",
            "2. Resta\n",
            "3. Multiplicacion\n",
            "4. Division\n",
            "Elija una opcion del menu\n",
            "1\n",
            "valor 1 1\n",
            " + 1\n",
            "La suma de  1.0 + 1.0 es:  2.0\n",
            "¿Quieres realizar otra operacion?\n",
            "no\n"
          ],
          "name": "stdout"
        }
      ]
    },
    {
      "cell_type": "markdown",
      "metadata": {
        "id": "4_-M-7hDC0aT"
      },
      "source": [
        "# Problema 5"
      ]
    },
    {
      "cell_type": "markdown",
      "metadata": {
        "id": "tBMnsUYHC3U2"
      },
      "source": [
        "Una tienda de juguetes tiene dos productos estrella, un payaso y un juego de mesa, el payaso pesa 150 gr y el juego de mesa pesa 170 gr. Hacer una función que reciba el número de payasos y el número de juegos de mesa por pedido, si el peso total del pedido es mayor a 10 kg, debe de mandar error, debe de inidicar por cuántos gramos se pasó el envío y debe de regresar False al programa principal."
      ]
    },
    {
      "cell_type": "code",
      "metadata": {
        "id": "zBSOoHStDk34",
        "outputId": "eb7a4cf0-b1d7-45ba-cb4c-a6d0ac08ff04",
        "colab": {
          "base_uri": "https://localhost:8080/"
        }
      },
      "source": [
        "print(\"PEDIDO\")\n",
        "res = 11\n",
        "while res > 10:\n",
        "  a = int(input(\"#Payasos:\"))\n",
        "  b = int(input(\"#Juegos de mesa:\"))\n",
        "  res = (a*0.150)+(b*0.170)\n",
        "  print(\"El peso total del pedido es:\",res,\"kg\")\n",
        "  if res > 10:\n",
        "    print(\"ERROR\")\n",
        "    print(\"El peso es superior a 10 kg por\",(res-10)*1000,\"gr\")\n",
        "    print(res<10)"
      ],
      "execution_count": 171,
      "outputs": [
        {
          "output_type": "stream",
          "text": [
            "PEDIDO\n",
            "#Payasos:30\n",
            "#Juegos de mesa:31\n",
            "El peso total del pedido es: 9.77 kg\n"
          ],
          "name": "stdout"
        }
      ]
    },
    {
      "cell_type": "markdown",
      "metadata": {
        "id": "4zKdPGxbpDqE"
      },
      "source": [
        "# Problema 6"
      ]
    },
    {
      "cell_type": "markdown",
      "metadata": {
        "id": "wDcCe6pNpHio"
      },
      "source": [
        "Suponga que el impuesto que se debe de pagar por el salario ganado esté regido por la siguiente tabla\\\n",
        "Ingreso_________________Impuesto\\\n",
        "Menos de 10 mil________5%\\\n",
        "Entre 10 mil y 15 mil____10%\\\n",
        "Entre 15 mil y 20 mil____15%\\\n",
        "Más de 20 mil__________18%\\\n",
        "Table 1: Ingreso mensual e impuestos\\\n",
        "Desarrolle una función que acepte como argumento el salario, y la función debe de mostrar el rango en que se encuentra, y debe de regresar el salario con el descuento del impuesto, si la función se ha podido desarrollar con éxito, debe de regresar True"
      ]
    },
    {
      "cell_type": "code",
      "metadata": {
        "id": "VWROaS4Drc_1",
        "outputId": "77fde1c7-83ec-46fe-9a3a-c626b7fb7ca6",
        "colab": {
          "base_uri": "https://localhost:8080/"
        }
      },
      "source": [
        "sal = int(input(\"Ingrese el salario: \")) \n",
        "if sal <= 10000:\n",
        "  print(\"El impuesto es del 5%\")\n",
        "  imp = sal*0.05\n",
        "  total = sal-imp\n",
        "  print(\"El salario con descuento de impuesto es de:\", total) \n",
        "  print(sal <= 10000) \n",
        "\n",
        "elif sal <= 15000:\n",
        "  print(\"El impuesto es del 10%\")\n",
        "  imp = sal*0.10\n",
        "  total = sal-imp\n",
        "  print(\"El salario con descuento de impuesto es de:\", total) \n",
        "  print(sal <= 15000) \n",
        "\n",
        "elif sal <= 20000:\n",
        "  print(\"El impuesto es del 15%\")\n",
        "  impuesto = sal*0.15\n",
        "  total = sal-impuesto\n",
        "  print(\"El salario con descuento de impuesto es de:\", total) \n",
        "  print(sal <= 20000) \n",
        "\n",
        "elif sal > 20000:\n",
        "  print(\"El impuesto es del 18%\")\n",
        "  impuesto = sal*0.18\n",
        "  total = sal-impuesto\n",
        "  print(\"El salario con descuento de impuesto es de:\", total) \n",
        "  print(sal > 20000) "
      ],
      "execution_count": 6,
      "outputs": [
        {
          "output_type": "stream",
          "text": [
            "Ingrese el salario: 7500\n",
            "El impuesto es del 5%\n",
            "El salario con descuento de impuesto es de: 7125.0\n",
            "True\n"
          ],
          "name": "stdout"
        }
      ]
    },
    {
      "cell_type": "markdown",
      "metadata": {
        "id": "8aqbcKLKR-Oe"
      },
      "source": [
        "# Problema 7"
      ]
    },
    {
      "cell_type": "markdown",
      "metadata": {
        "id": "XKiqHyfuSBaa"
      },
      "source": [
        "Escribir un programa para un museo, donde se deben de mandar a una función los siguientes parámetros, edad y ocupación. Se deben de aplicar los siguientes costos y descuentos\n",
        "\n",
        "Rango de edad__________________Impuesto\\\n",
        "Menor de cuatro años___________Gratis\\\n",
        "Entre 4 y 16 años_______________$50\\\n",
        "Adultos_________________________100\\\n",
        "Table 2: Costos\n",
        "\n",
        "Concepto_______________________Impuesto\\\n",
        "Estudiante con credencial_______10%\\\n",
        "Docente con credencial__________30%\\\n",
        "INAPAM_________________________50%\\\n",
        "Table 3: Costos"
      ]
    },
    {
      "cell_type": "code",
      "metadata": {
        "id": "Vu4jR-kcTW0I",
        "outputId": "c1261d18-7e85-43a0-b501-ad9081d2f188",
        "colab": {
          "base_uri": "https://localhost:8080/"
        }
      },
      "source": [
        "print(\"Museo\")\n",
        "edad = int(input(\"Edad del usuario: \"))\n",
        "if edad < 4:\n",
        "  print(\"Bienvenido, su entrada es gratis\")\n",
        "  costo = 0\n",
        "elif edad < 16:\n",
        "  print(\"Bienvenido, su entrada es de $50\")\n",
        "  costo = 50\n",
        "elif edad >= 16:\n",
        "  print(\"Bienvenido, su entrada es de $100\")\n",
        "  costo = 100\n",
        "if costo != 0:\n",
        "  print(\"Seleccione su ocupación\\n 1.Estudiante con credencial\\n 2.Docente con credencial\\n 3.INAPAM\\n 4.Ninguno de los anteriores\")\n",
        "  ocupación = int(input())\n",
        "  if ocupación == 1:\n",
        "    print(\"El descuento es de 10%\")\n",
        "    des = costo*0.10\n",
        "  elif ocupación == 2:\n",
        "    print(\"El descuento es de 30%\")\n",
        "    des = costo*0.30\n",
        "  elif ocupación == 3:\n",
        "    print(\"El descuento es de 50%\")\n",
        "    des = costo*0.50\n",
        "  else:\n",
        "    print(\"No aplica el descuento\")\n",
        "    des = 0\n",
        "  total = costo-des\n",
        "  print(\"El costo de su entrada es de: $\",int(total),\"\\n Sea Bienvenido\")"
      ],
      "execution_count": 36,
      "outputs": [
        {
          "output_type": "stream",
          "text": [
            "Museo\n",
            "Edad del usuario: 8\n",
            "Bienvenido, su entrada es de $50\n",
            "Seleccione su ocupación\n",
            " 1.Estudiante con credencial\n",
            " 2.Docente con credencial\n",
            " 3.INAPAM\n",
            " 4.Ninguno de los anteriores\n",
            "1\n",
            "El descuento es de 10%\n",
            "El costo de su entrada es de: $ 45 \n",
            " Sea Bienvenido\n"
          ],
          "name": "stdout"
        }
      ]
    },
    {
      "cell_type": "code",
      "metadata": {
        "id": "wmBtUOVoV-sD",
        "outputId": "e17efac3-14c6-4346-a291-55315d4a98bf",
        "colab": {
          "base_uri": "https://localhost:8080/"
        }
      },
      "source": [
        "edad= int(input(\"Digite su edad: \"))\n",
        "if edad<4: \n",
        "  print(\"Su entrada es gratis, que de la disfrute\")\n",
        "  a=0\n",
        "elif edad<16:\n",
        "  print(\"El costo de su entrada es de $50\")\n",
        "  a=50\n",
        "elif edad>16:\n",
        "  print(\"El costo de su entrada es de $100\")\n",
        "  a=100\n",
        "if a != 0:\n",
        "  print(\"Digite su ocupacion\")\n",
        "  print(\"1) Estudiante con credencial\")\n",
        "  print(\"2) Docente con credencial\")\n",
        "  print(\"3) INAPAM\")\n",
        "  print(\"4) Otro\")\n",
        "  ocupacion= int(input(\"Digite el numero de su ocupacion: \"))\n",
        "  b=0 \n",
        "  if ocupacion==1:\n",
        "    print(\"Se le aplicara un descuento del 10%\")\n",
        "    b= (a*0.10)\n",
        "  elif ocupacion==2: \n",
        "    print(\"Se le aplicara un descuento del 30%\")\n",
        "    b= (a*0.30)\n",
        "  elif ocupacion==3:\n",
        "    print(\"Se le aplicara un descuento del 50%\")\n",
        "    b= (a*0.50)\n",
        "  else: \n",
        "    print(\"No se aplicara ningun descuento\")\n",
        "  c= (a-b)\n",
        "  print(\"El monto total a pagar es de: \", c)"
      ],
      "execution_count": 20,
      "outputs": [
        {
          "output_type": "stream",
          "text": [
            "Digite su edad: 20\n",
            "El costo de su entrada es de $100\n",
            "Digite su ocupacion\n",
            "1) Estudiante con credencial\n",
            "2) Docente con credencial\n",
            "3) INAPAM\n",
            "4) Otro\n",
            "Digite el numero de su ocupacion: 5\n",
            "No se aplicara ningun descuento\n",
            "El monto total a pagar es de:  100\n"
          ],
          "name": "stdout"
        }
      ]
    },
    {
      "cell_type": "markdown",
      "metadata": {
        "id": "0fpChGTWew4w"
      },
      "source": [
        "# Problema 8"
      ]
    },
    {
      "cell_type": "markdown",
      "metadata": {
        "id": "2oYFtzi8ezif"
      },
      "source": [
        "Escribir un programa que pida al usuario un número entero y muestre en pantalla un triángulo\n",
        "rectángulo el que se muestra. Ejemplo: si el usuario ha introducido 4 se debe de mostrar el\n",
        "siguiente patrón\\\n",
        "0\\\n",
        "00\\\n",
        "000\\\n",
        "0000"
      ]
    },
    {
      "cell_type": "code",
      "metadata": {
        "id": "CNeqs--dl_3x",
        "outputId": "6280fab4-1807-4622-921f-a7cdfb0bda58",
        "colab": {
          "base_uri": "https://localhost:8080/"
        }
      },
      "source": [
        "a = int(input(\"Introduce el tamaño del triángulo:\"))\n",
        "contador = 0\n",
        "while contador < a:\n",
        "  b = \"*\" + (\"*\"*contador)\n",
        "  contador = contador + 1\n",
        "  print(b) "
      ],
      "execution_count": 56,
      "outputs": [
        {
          "output_type": "stream",
          "text": [
            "Introduce el tamaño del triángulo:5\n",
            "*\n",
            "**\n",
            "***\n",
            "****\n",
            "*****\n"
          ],
          "name": "stdout"
        }
      ]
    },
    {
      "cell_type": "markdown",
      "metadata": {
        "id": "h_AdCcrPo7Z5"
      },
      "source": [
        "# Problema 9"
      ]
    },
    {
      "cell_type": "markdown",
      "metadata": {
        "id": "DSjR9B2lo-7b"
      },
      "source": [
        "Escribir una función que reciba un número entero positivo y devuelva su factorial"
      ]
    },
    {
      "cell_type": "code",
      "metadata": {
        "id": "V2eD6FrHpG4L",
        "outputId": "0ccb2a63-4e96-40fd-a5a8-3db16405bd09",
        "colab": {
          "base_uri": "https://localhost:8080/"
        }
      },
      "source": [
        "n = int(input(\"Introduce un número positivo: \"))\n",
        "cont = n - 1\n",
        "f = n*cont\n",
        "if n <= 1:\n",
        "  f = 1\n",
        "else:\n",
        "  while  cont != 1:\n",
        "    cont = cont - 1\n",
        "    f = f*cont\n",
        "print(\"El factorial es:\",f)"
      ],
      "execution_count": 123,
      "outputs": [
        {
          "output_type": "stream",
          "text": [
            "Introduce un número positivo: 0\n",
            "El factorial es: 1\n"
          ],
          "name": "stdout"
        }
      ]
    },
    {
      "cell_type": "markdown",
      "metadata": {
        "id": "3g4ba307tNqG"
      },
      "source": [
        "# Problema 10"
      ]
    },
    {
      "cell_type": "markdown",
      "metadata": {
        "id": "0CI_jRKLtQpm"
      },
      "source": [
        "Escribir una función que calcule el área de un círculo y otra que calcule el volumen de un cilindro utilizando la primera función."
      ]
    },
    {
      "cell_type": "code",
      "metadata": {
        "id": "p8dsKGodtYrk",
        "outputId": "32cad8a9-f630-44f8-a29b-3bce296cded5",
        "colab": {
          "base_uri": "https://localhost:8080/"
        }
      },
      "source": [
        "r = int(input(\"De un valor para el radio: \"))\n",
        "pi = 3.141592\n",
        "área = pi*(r**2)\n",
        "print(\"El área del círculo es:\",área,\"\\n\")\n",
        "h = int(input(\"De la altura del cilindro: \"))\n",
        "v = área*h\n",
        "print(\"El volumen del cilindro es: \",v)"
      ],
      "execution_count": 64,
      "outputs": [
        {
          "output_type": "stream",
          "text": [
            "De un valor para el radio: 5\n",
            "El área del círculo es: 78.5398 \n",
            "\n",
            "De la altura del cilindro: 3\n",
            "El volumen del cilindro es:  235.61939999999998\n"
          ],
          "name": "stdout"
        }
      ]
    }
  ]
}